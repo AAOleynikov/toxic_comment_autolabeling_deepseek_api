{
 "cells": [
  {
   "cell_type": "code",
   "execution_count": 11,
   "id": "6998643f-e60d-49f7-abdc-dab4a7804e1d",
   "metadata": {},
   "outputs": [
    {
     "name": "stdout",
     "output_type": "stream",
     "text": [
      "Все строки соответствуют формату CSV!\n"
     ]
    }
   ],
   "source": [
    "import csv\n",
    "\n",
    "def find_invalid_csv_lines(filename):\n",
    "    invalid_lines = []\n",
    "    \n",
    "    with open(filename, 'r', encoding='utf-8') as f:\n",
    "        reader = csv.reader(f)\n",
    "        \n",
    "        try:\n",
    "            header = next(reader)\n",
    "            # Проверяем заголовок\n",
    "            if header != ['text', 'category', 'subcategory', 'severity']:\n",
    "                invalid_lines.append((\n",
    "                    1, \n",
    "                    \",\".join(header), \n",
    "                    \"Некорректный заголовок\"\n",
    "                ))\n",
    "        except StopIteration:\n",
    "            return [\"Файл пуст\"]\n",
    "        \n",
    "        for line_num, row in enumerate(reader, start=2):\n",
    "            error = None\n",
    "            if len(row) != 4:\n",
    "                error = \"Неверное количество столбцов\"\n",
    "            elif not row[0]:\n",
    "                error = \"Пустое поле text\"\n",
    "            elif row[1] not in {'HATE', 'OFFENSE', 'VIOLENCE', 'MISINFORMATION', 'NEUTRAL', 'IGNORE'}:\n",
    "                error = \"Недопустимая категория\"\n",
    "            elif not row[2]:\n",
    "                error = \"Пустая подкатегория\"\n",
    "            elif row[3] not in {'LOW', 'MEDIUM', 'HIGH'}:\n",
    "                error = \"Недопустимый уровень серьезности\"\n",
    "            \n",
    "            if error:\n",
    "                invalid_lines.append((\n",
    "                    line_num,\n",
    "                    \",\".join(row),\n",
    "                    error\n",
    "                ))\n",
    "    \n",
    "    return invalid_lines\n",
    "\n",
    "def print_results(invalid_lines):\n",
    "    if not invalid_lines:\n",
    "        print(\"Все строки соответствуют формату CSV!\")\n",
    "        return\n",
    "\n",
    "    print(\"Найдены несоответствия формату:\")\n",
    "    print(\"{:<7} {:<90} {:<30}\".format(\"Строка\", \"Содержимое\", \"Ошибка\"))\n",
    "    for line in invalid_lines:\n",
    "        line_num, content, error = line\n",
    "        print(\"{:<7} {:<90} {:<30}\".format(\n",
    "            f'#{line_num}', \n",
    "            (content[:87] + '...') if len(content) > 90 else content, \n",
    "            error\n",
    "        ))\n",
    "\n",
    "if __name__ == \"__main__\":\n",
    "    filename = \"b_razmech_v3.csv\"  # Укажите имя вашего файла\n",
    "    invalid = find_invalid_csv_lines(filename)\n",
    "    print_results(invalid)"
   ]
  }
 ],
 "metadata": {
  "kernelspec": {
   "display_name": "Python 3 (ipykernel)",
   "language": "python",
   "name": "python3"
  },
  "language_info": {
   "codemirror_mode": {
    "name": "ipython",
    "version": 3
   },
   "file_extension": ".py",
   "mimetype": "text/x-python",
   "name": "python",
   "nbconvert_exporter": "python",
   "pygments_lexer": "ipython3",
   "version": "3.12.9"
  }
 },
 "nbformat": 4,
 "nbformat_minor": 5
}
